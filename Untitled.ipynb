{
 "cells": [
  {
   "cell_type": "code",
   "execution_count": 23,
   "id": "a320cefe-8a49-47bb-a399-f24b52734090",
   "metadata": {
    "scrolled": true
   },
   "outputs": [
    {
     "ename": "SyntaxError",
     "evalue": "invalid syntax (1072747439.py, line 1)",
     "output_type": "error",
     "traceback": [
      "\u001b[0;36m  Cell \u001b[0;32mIn[23], line 1\u001b[0;36m\u001b[0m\n\u001b[0;31m    номер 5\u001b[0m\n\u001b[0m          ^\u001b[0m\n\u001b[0;31mSyntaxError\u001b[0m\u001b[0;31m:\u001b[0m invalid syntax\n"
     ]
    }
   ],
   "source": [
    "номер 5"
   ]
  },
  {
   "cell_type": "code",
   "execution_count": null,
   "id": "e07ba9c7-e197-404f-b3df-87f4a03ed305",
   "metadata": {},
   "outputs": [],
   "source": [
    "import numpy as np\n",
    "from scipy.optimize import minimize\n"
   ]
  },
  {
   "cell_type": "code",
   "execution_count": 21,
   "id": "d31fa073-0a0c-4cbb-9a8f-b2b978f1ec51",
   "metadata": {},
   "outputs": [
    {
     "data": {
      "text/plain": [
       "  message: Optimization terminated successfully.\n",
       "  success: True\n",
       "   status: 0\n",
       "      fun: 232.50000003216675\n",
       "        x: [ 3.500e+00  7.000e+00  6.000e+00]\n",
       "      nit: 26\n",
       "      jac: [ 7.626e-09 -2.489e-09 -1.116e-09]\n",
       " hess_inv: [[ 5.660e-01  4.660e-01  5.068e-01]\n",
       "            [ 4.660e-01  1.517e+00  9.965e-01]\n",
       "            [ 5.068e-01  9.965e-01  1.001e+00]]\n",
       "     nfev: 46\n",
       "     njev: 46"
      ]
     },
     "execution_count": 21,
     "metadata": {},
     "output_type": "execute_result"
    }
   ],
   "source": [
    "def f(x):\n",
    "    return -2*x[0]-2*x[1]-3*x[2]+2*x[0]**2+x[1]**2+2*x[2]**2+2*x[1]*x[2]+2*x[0]*x[2]\n",
    "def grad_f(x):\n",
    "    f_x = -2+4*x[0]-2*x[2]\n",
    "    f_y = -2+2*x[1]-2*x[2]\n",
    "    f_z = -3+4*x[2]-2*x[1]-2*x[0]\n",
    "    return np.array([f_x, f_y, f_z])\n",
    "\n",
    "x0 = np.array([200, 700, -600])\n",
    "res = minimize(f, x0, method='BFGS', jac=grad_f, tol=1e-8)\n",
    "res"
   ]
  },
  {
   "cell_type": "code",
   "execution_count": 22,
   "id": "3903e8af-a642-4f30-af25-16f1fa7ee0f9",
   "metadata": {},
   "outputs": [
    {
     "data": {
      "text/plain": [
       "array([3.5, 7. , 6. ])"
      ]
     },
     "execution_count": 22,
     "metadata": {},
     "output_type": "execute_result"
    }
   ],
   "source": [
    "res.x"
   ]
  },
  {
   "cell_type": "code",
   "execution_count": null,
   "id": "f2f8ba7b-a2f6-4ece-a1da-d58955d5218e",
   "metadata": {},
   "outputs": [],
   "source": [
    "номер 6"
   ]
  },
  {
   "cell_type": "code",
   "execution_count": 31,
   "id": "5a7683bd-bdbe-45ff-acf8-ed02c86c3f76",
   "metadata": {},
   "outputs": [
    {
     "data": {
      "text/plain": [
       "  message: Optimization terminated successfully.\n",
       "  success: True\n",
       "   status: 0\n",
       "      fun: -164.4444444491783\n",
       "        x: [ 4.667e+00  6.667e+00]\n",
       "      nit: 6\n",
       "      jac: [ 8.568e-10  9.458e-11]\n",
       " hess_inv: [[ 8.378e-02 -1.446e-01]\n",
       "            [-1.446e-01  5.811e-01]]\n",
       "     nfev: 11\n",
       "     njev: 11"
      ]
     },
     "execution_count": 31,
     "metadata": {},
     "output_type": "execute_result"
    }
   ],
   "source": [
    "def f(x):\n",
    "    return -20*x[0]+5*x[1]**2-4*x[0]*x[1]-32*x[1]+x[1]**2\n",
    "def grad_f(x):\n",
    "    f_x = -20+10*x[0]-4*x[1]\n",
    "    f_y = 4*x[0]-32+2*x[1]\n",
    "    return np.array([f_x, f_y])\n",
    "\n",
    "x0 = np.array([400, -300])\n",
    "res = minimize(f, x0, method='BFGS', jac=grad_f, tol=1e-8)\n",
    "res"
   ]
  },
  {
   "cell_type": "code",
   "execution_count": null,
   "id": "845141e9-7b51-4c08-8ee0-82b9490f4380",
   "metadata": {},
   "outputs": [],
   "source": []
  },
  {
   "cell_type": "code",
   "execution_count": 32,
   "id": "291ec89d-3d3b-4730-8639-55bcf6632c77",
   "metadata": {},
   "outputs": [
    {
     "data": {
      "text/plain": [
       "array([4.66666667, 6.66666667])"
      ]
     },
     "execution_count": 32,
     "metadata": {},
     "output_type": "execute_result"
    }
   ],
   "source": [
    "res.x"
   ]
  },
  {
   "cell_type": "code",
   "execution_count": null,
   "id": "b2e49e56-316e-47b4-84e5-086f1e9aabfb",
   "metadata": {},
   "outputs": [],
   "source": [
    "номер 7"
   ]
  },
  {
   "cell_type": "code",
   "execution_count": 33,
   "id": "dbcc7a1b-5899-42bd-abff-e38973289baf",
   "metadata": {},
   "outputs": [
    {
     "data": {
      "text/plain": [
       "  message: Optimization terminated successfully.\n",
       "  success: True\n",
       "   status: 0\n",
       "      fun: -47772.00000000014\n",
       "        x: [ 1.830e+02  1.140e+02]\n",
       "      nit: 7\n",
       "      jac: [ 1.137e-13  2.274e-13]\n",
       " hess_inv: [[ 2.500e+00  1.500e+00]\n",
       "            [ 1.500e+00  1.000e+00]]\n",
       "     nfev: 11\n",
       "     njev: 11"
      ]
     },
     "execution_count": 33,
     "metadata": {},
     "output_type": "execute_result"
    }
   ],
   "source": [
    "def f(x):\n",
    "    return -48*x[0]+2*x[1]**2-6*x[0]*x[1]-42*x[1]+5*x[1]**2\n",
    "def grad_f(x):\n",
    "    f_x = -48+4*x[0]-6*x[1]\n",
    "    f_y = -42+10*x[1]-6*x[0]\n",
    "    return np.array([f_x, f_y])\n",
    "\n",
    "x0 = np.array([400, -300])\n",
    "res = minimize(f, x0, method='BFGS', jac=grad_f, tol=1e-8)\n",
    "res"
   ]
  },
  {
   "cell_type": "code",
   "execution_count": 34,
   "id": "cece2357-1da9-4866-b231-0660683ddb58",
   "metadata": {},
   "outputs": [
    {
     "data": {
      "text/plain": [
       "array([183., 114.])"
      ]
     },
     "execution_count": 34,
     "metadata": {},
     "output_type": "execute_result"
    }
   ],
   "source": [
    "res.x"
   ]
  },
  {
   "cell_type": "code",
   "execution_count": null,
   "id": "ea76870a-f92c-46fb-9794-93cc403811e7",
   "metadata": {},
   "outputs": [],
   "source": []
  }
 ],
 "metadata": {
  "kernelspec": {
   "display_name": "anaconda-panel-2023.05-py310",
   "language": "python",
   "name": "conda-env-anaconda-panel-2023.05-py310-py"
  },
  "language_info": {
   "codemirror_mode": {
    "name": "ipython",
    "version": 3
   },
   "file_extension": ".py",
   "mimetype": "text/x-python",
   "name": "python",
   "nbconvert_exporter": "python",
   "pygments_lexer": "ipython3",
   "version": "3.11.5"
  }
 },
 "nbformat": 4,
 "nbformat_minor": 5
}
